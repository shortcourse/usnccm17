{
 "cells": [
  {
   "cell_type": "code",
   "execution_count": null,
   "id": "sound-xerox",
   "metadata": {},
   "outputs": [],
   "source": [
    "//  Copyright (c) 2020 Patrick Diehl\n",
    "//\n",
    "//  SPDX-License-Identifier: BSL-1.0\n",
    "//  Distributed under the Boost Software License, Version 1.0. (See accompanying\n",
    "//  file LICENSE_1_0.txt or copy at http://www.boost.org/LICENSE_1_0.txt)"
   ]
  },
  {
   "cell_type": "markdown",
   "id": "congressional-korean",
   "metadata": {},
   "source": [
    "# Exercise 1: Classical linear elasticity model\n",
    "\n",
    "Let $\\Omega = (0,1) \\subset \\mathbb R$ and $\\overline{\\Omega}$ be the closure of $\\Omega$, i.e.\\ $\\Omega=[0,1]$. The continuum local problem consists in finding the displacement $(u\\in\\overline{\\Omega})$ such that:\n",
    "\\begin{align}\n",
    "\\label{eq:1dlinearelasticity}\n",
    "- E u''(x) = f_b(x), &\\quad \\forall x \\in \\Omega, \\\\\n",
    "\\label{eq:Dirichlet}\n",
    "u(x) = 0, &\\quad \\text{at}\\ x=0,\\\\\n",
    "\\label{eq:Neumann}\n",
    "Eu'(x) = g, &\\quad \\text{at}\\ x=1,\n",
    "\\end{align}\n",
    "where $E$ is the constant modulus of elasticity of the bar, $f_b=f_b(x)$ is a scalar function describing the external body force density (per unit length), and $g \\in \\mathbb R$ is the traction force applied at end point $x=1$. \n"
   ]
  },
  {
   "cell_type": "code",
   "execution_count": null,
   "id": "scientific-mortality",
   "metadata": {},
   "outputs": [],
   "source": [
    "#include <blaze/Math.h>\n",
    "#include <BlazeIterative.hpp>\n",
    "#include <cmath>\n",
    "#include <iostream>\n",
    "#include <vector>\n",
    "#include<run_hpx.cpp>\n",
    "#include<hpx/include/lcos.hpp>\n",
    "#include<hpx/include/parallel_for_loop.hpp>"
   ]
  },
  {
   "cell_type": "markdown",
   "id": "distributed-harbor",
   "metadata": {},
   "source": [
    "## Helper function for Blaze\n",
    "\n",
    "[Blaze](https://bitbucket.org/blaze-lib/blaze/src/master/) is an open-source, high-performance C++ math library for dense and sparse arithmetic. This linrary has a HPX backend and utilzies the parallel algorithms to accelarted the linear algebara functions. Blaze is not covered in this cours and for more details we refer to\n",
    "\n",
    "* K. Iglberger, G. Hager, J. Treibig, and U. Rüde: High Performance Smart Expression Template Math Libraries . Proceedings of the 2nd International Workshop on New Algorithms and Programming Models for the Manycore Era (APMM 2012) at HPCS 2012\n",
    "* K. Iglberger, G. Hager, J. Treibig, and U. Rüde: Expression Templates Revisited: A Performance Analysis of Current Methodologies (Download). SIAM Journal on Scientific Computing, 34(2): C42--C69, 2012"
   ]
  },
  {
   "cell_type": "code",
   "execution_count": null,
   "id": "conceptual-contrast",
   "metadata": {},
   "outputs": [],
   "source": [
    "// Generates a Blaze dynamic matrix of size N times N and fills the matrix with zeros\n",
    "blaze::DynamicMatrix<double> zeroMatrix(unsigned long N)\n",
    "{\n",
    "return blaze::DynamicMatrix<double>( N, N, 0 );\n",
    "};    "
   ]
  },
  {
   "cell_type": "code",
   "execution_count": null,
   "id": "fundamental-engineering",
   "metadata": {},
   "outputs": [],
   "source": [
    "// Generates a Blaze dynamic vector of size N and fills the vector with zeros\n",
    "blaze::DynamicVector<double> zeroVector(unsigned long N)\n",
    "{\n",
    "return blaze::DynamicVector<double>(N,0);\n",
    "}; "
   ]
  },
  {
   "cell_type": "code",
   "execution_count": null,
   "id": "lovely-designer",
   "metadata": {},
   "outputs": [],
   "source": [
    "// Solves the matrix system A \\times x = b and returns x\n",
    "blaze::DynamicVector<double> solve(blaze::DynamicMatrix<double> A, blaze::DynamicVector<double> b )\n",
    "{\n",
    "     blaze::iterative::BiCGSTABTag tag;\n",
    "     tag.do_log() = true;\n",
    "     return solve(A,b,tag);\n",
    "}"
   ]
  },
  {
   "cell_type": "markdown",
   "id": "institutional-folder",
   "metadata": {},
   "source": [
    "## Force function\n",
    "\n",
    "As the external load, a linear $force_b$ function $force : \\mathbb{R} \\rightarrow \\mathbb{R}$\n",
    "\n",
    " $$ force_b(x)  = \\begin{cases} 1, if x == 1, \\\\\n",
    " 0 , else\\end{cases}, x = [0,1]$$"
   ]
  },
  {
   "cell_type": "code",
   "execution_count": null,
   "id": "administrative-dollar",
   "metadata": {},
   "outputs": [],
   "source": [
    "double force(double x){\n",
    "    \n",
    "    if ( x == 1 )\n",
    "        return 1;\n",
    "    \n",
    "    return 0;\n",
    "}"
   ]
  },
  {
   "cell_type": "markdown",
   "id": "chinese-cuisine",
   "metadata": {},
   "source": [
    "## Discretization\n",
    "\n",
    "As the domain $\\overline{\\Omega}$ we consider the intervall $[0,1]$ and discretize the interval with $n$ elements and using the spacing $h=\\frac{1}{n}$ such that $x={0,1\\cdot h,2\\cdot h,\\ldots,n\\cdot h}$."
   ]
  },
  {
   "cell_type": "code",
   "execution_count": null,
   "id": "systematic-workstation",
   "metadata": {},
   "outputs": [],
   "source": [
    "size_t n = std::pow(2,2) + 1;\n",
    "double h= 1.0/(n-1);\n",
    "auto x = zeroVector(n);"
   ]
  },
  {
   "cell_type": "code",
   "execution_count": null,
   "id": "07295eef",
   "metadata": {},
   "outputs": [],
   "source": [
    "std::cout << \"n=\" << n << \" h=\" << h << std::endl;"
   ]
  },
  {
   "cell_type": "code",
   "execution_count": null,
   "id": "dietary-wisconsin",
   "metadata": {},
   "outputs": [],
   "source": [
    ".expr\n",
    "for(size_t i = 0 ; i < n ; i++)\n",
    "    x[i] = i * h;"
   ]
  },
  {
   "cell_type": "code",
   "execution_count": null,
   "id": "plastic-illinois",
   "metadata": {},
   "outputs": [],
   "source": [
    "// Print the discrete nodes\n",
    "std::cout << x ;"
   ]
  },
  {
   "cell_type": "markdown",
   "id": "talented-factor",
   "metadata": {},
   "source": [
    "<span style=\"color:blue\">Task 1: Replace the for loop in Cell 11 with the hpx::for loop to fill the right-hand side $f$ in parrallel in Cell 12</span>.\n"
   ]
  },
  {
   "cell_type": "markdown",
   "id": "occupational-velvet",
   "metadata": {},
   "source": [
    "## Prepare the external load"
   ]
  },
  {
   "cell_type": "code",
   "execution_count": null,
   "id": "cellular-jacksonville",
   "metadata": {},
   "outputs": [],
   "source": [
    "// Get the force vector for the right-hand side\n",
    "auto f = zeroVector(n);"
   ]
  },
  {
   "cell_type": "code",
   "execution_count": null,
   "id": "complex-forty",
   "metadata": {},
   "outputs": [],
   "source": [
    "/*\n",
    "for(size_t i = 0 ; i < n  ; i++)\n",
    " {\n",
    "  f[i] = force(x[i]);   \n",
    " }\n",
    "*/"
   ]
  },
  {
   "cell_type": "code",
   "execution_count": null,
   "id": "conditional-fireplace",
   "metadata": {},
   "outputs": [],
   "source": [
    "run_hpx([](){\n",
    "\n",
    "hpx::experimental::for_loop(\n",
    "\thpx::execution::par, \n",
    "\t0, \n",
    "\tn,\n",
    "\t[&](boost::uint64_t i)\n",
    "\t\t{\n",
    "\t\t   f[i] = force(x[i]); \n",
    "\t\t}\n",
    "\t);\n",
    "});"
   ]
  },
  {
   "cell_type": "code",
   "execution_count": null,
   "id": "final-detector",
   "metadata": {},
   "outputs": [],
   "source": [
    "// Print the force vector\n",
    "std::cout << f ;"
   ]
  },
  {
   "cell_type": "markdown",
   "id": "multiple-slave",
   "metadata": {},
   "source": [
    "### Assemble the stiffness matrix using finite differences\n",
    "\n",
    "\n",
    "1. Dirichlet boundary condition at $x=0$:\n",
    "\\begin{equation}\n",
    "u_1 = 0.\n",
    "\\end{equation}\n",
    "2. Finite difference schems for \n",
    "In $\\overline{\\Omega}$: \n",
    "$\\forall i=2,\\ldots,n-1$:\n",
    "\\begin{equation}\n",
    "- E \\frac{u_{i-1}-2u_i+u_{i+1}}{h^2} = f_b(x_k).\n",
    "\\end{equation}\n",
    "3. Neumann boundary condition at $x=1$:\n",
    "\\begin{equation}\n",
    "E \\frac{u_{n-3}-4u_{n-2}+3u_n-1}{2h} = g.\n",
    "\\end{equation}\n",
    "\n",
    "For simplicity we assume $E=1$.\n",
    "\n"
   ]
  },
  {
   "cell_type": "markdown",
   "id": "distinguished-eating",
   "metadata": {},
   "source": [
    "<span style=\"color:blue\">Task 2: Use aysnchronous programming to assemble the stiffness matrix using hpx::async and hpx::future</span>.\n",
    "\n",
    "1. Finish the function assemble to fill the matrix from start to end in Cell 16\n",
    "2. Generate a vector of hpx::futures<void> to collect all future for synchronization in Cell 17\n",
    "3. Use hpx::async to execute the function assemble asynchronously in Cell 17\n",
    "4. Use hpx::wait_all to syncrhonize the results in Cell 17"
   ]
  },
  {
   "cell_type": "code",
   "execution_count": null,
   "id": "fossil-strength",
   "metadata": {},
   "outputs": [],
   "source": [
    "// Get the stiffness matrix filled with zeros\n",
    "auto matrix = zeroMatrix(n);"
   ]
  },
  {
   "cell_type": "code",
   "execution_count": null,
   "id": "perfect-gabriel",
   "metadata": {},
   "outputs": [],
   "source": [
    "/*\n",
    "matrix(0,0) = 1;\n",
    "for(size_t i = 1 ; i < n-1 ; i++){\n",
    "    matrix(i,i-1) = -2;\n",
    "    matrix(i,i) = 4;\n",
    "    matrix(i,i+1) = -2;\n",
    "    }\n",
    "\n",
    "matrix(n-1,n-1) = 3*h;\n",
    "matrix(n-1,n-2) = -4*h;    \n",
    "matrix(n-1,n-3) = h;\n",
    "\n",
    "matrix *= 1./(2*h*h);\n",
    "*/"
   ]
  },
  {
   "cell_type": "code",
   "execution_count": null,
   "id": "applicable-clearing",
   "metadata": {},
   "outputs": [],
   "source": [
    "// Assmeble the part of the stiffness matrix where the index goes from start to end\n",
    "void assemble(blaze::DynamicMatrix<double>* matrix, size_t start, size_t end)\n",
    "{\n",
    "    \n",
    "    for(size_t i = start ; i < end ; i++)\n",
    "    {\n",
    "        (*matrix)(i,i-1) = -2;\n",
    "        (*matrix)(i,i) = 4;\n",
    "        (*matrix)(i,i+1) = -2;\n",
    "    }\n",
    "}"
   ]
  },
  {
   "cell_type": "code",
   "execution_count": null,
   "id": "confidential-macintosh",
   "metadata": {},
   "outputs": [],
   "source": [
    "run_hpx([&](){\n",
    "\n",
    "matrix(0,0) = 1;\n",
    "\n",
    "std::vector<hpx::future<void>> futures;\n",
    "\n",
    "futures.push_back(hpx::async(assemble,&matrix,1,std::round(float(n)/2)));\n",
    "futures.push_back(hpx::async(assemble,&matrix,std::round(float(n)/2),n-1));\n",
    "\n",
    "hpx::wait_all(futures);\n",
    "\n",
    "matrix(n-1,n-1) = 3*h;\n",
    "matrix(n-1,n-2) = -4*h;    \n",
    "matrix(n-1,n-3) = h;\n",
    "    \n",
    "    \n",
    "matrix *= 1./(2.*h*h);\n",
    "    \n",
    "});"
   ]
  },
  {
   "cell_type": "code",
   "execution_count": null,
   "id": "twenty-monaco",
   "metadata": {},
   "outputs": [],
   "source": [
    "std::cout << matrix ;"
   ]
  },
  {
   "cell_type": "code",
   "execution_count": null,
   "id": "nuclear-journal",
   "metadata": {},
   "outputs": [],
   "source": [
    "// Solve the matrix system matrix times displacement - f\n",
    "auto displacement = solve(matrix,f);"
   ]
  },
  {
   "cell_type": "code",
   "execution_count": null,
   "id": "artistic-edgar",
   "metadata": {},
   "outputs": [],
   "source": [
    "std::cout << displacement;"
   ]
  },
  {
   "cell_type": "markdown",
   "id": "equal-ukraine",
   "metadata": {},
   "source": [
    "# Doing python plots from C++ \n",
    "\n",
    "Doing plots in Python is quite convinent using [matplotlib](https://matplotlib.org/), however, plotting in C++ is a little bit more tricky since we need to write the data as a CSV file and use Python or Matplotlib to plot it. The notebooks have some magic implemented to plot C++ variables directly in Python's matplotlib. \n",
    "\n",
    "Below we use %plot x y to plot a new line and we can repeat this command to add new lines to the same plot. Using %plotc x y will plot all previous added lines and clear the figure."
   ]
  },
  {
   "cell_type": "code",
   "execution_count": null,
   "id": "bridal-median",
   "metadata": {},
   "outputs": [],
   "source": [
    "%data x displacement"
   ]
  },
  {
   "cell_type": "code",
   "execution_count": null,
   "id": "dying-snake",
   "metadata": {},
   "outputs": [],
   "source": [
    "%%plot\n",
    "plt.xlabel(\"Position\")\n",
    "plt.ylabel(\"Displacement\")\n",
    "plt.plot(x,displacement,label=\"Simulation\")\n",
    "plt.plot(x,x,label=\"Exact solution\")\n",
    "plt.grid()\n",
    "plt.legend()"
   ]
  },
  {
   "cell_type": "code",
   "execution_count": null,
   "id": "cb983286-7476-4bd4-8069-a487b6f8fdf2",
   "metadata": {},
   "outputs": [],
   "source": []
  }
 ],
 "metadata": {
  "kernelspec": {
   "display_name": "C++17",
   "language": "C++",
   "name": "cling-cpp17"
  },
  "language_info": {
   "codemirror_mode": "c++",
   "file_extension": ".c++",
   "mimetype": "text/x-c++src",
   "name": "c++"
  }
 },
 "nbformat": 4,
 "nbformat_minor": 5
}
