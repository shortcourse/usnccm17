{
 "cells": [
  {
   "cell_type": "markdown",
   "id": "d7c5d23f-12c5-489c-9f16-3c733d2df951",
   "metadata": {},
   "source": [
    "## Advanced Parallel Programming in C++\n",
    "\n",
    "## Agenda\n",
    "\n",
    "* Introduction to C++17 and C++20, Hartmut Kaiser, 9 a.m. CT to 9:45 a.m. CT, [Slides](introduction.pdf)\n",
    "* Q&A, 9:45 a.m. CT to 10:00 a.m. CT\n",
    "* Break, 10:00 a.m. CT to 10:30 a.m. CT\n",
    "* Introduction to asynchronous programming and the parallel algorithms, Patrick Diehl, 10:30 am. CT to 11:30 a.m. CT, [Slides](/slides/part1.slides.html)\n",
    "* Coffee break, 11:30 a.m. CT to 12:00 p.m. CT \n",
    "* [Exercise 1](https://github.com/shortcourse/WCCM-APCOM-22/blob/main/exercise/Exercise1.ipynb), Parallel implementation of the 2D finite difference scheme, 12:00 p.m. CT to 12:30 p.m. CT\n",
    "* Lunch break, 12:30 p.m. CT to 1:30 p.m. CT\n",
    "* Introduction to distributed programming, Steve Brandt, 1:30 p.m. CT to 2:30 p.m. CT\n",
    "\n",
    "## Instructors \n",
    "\n",
    "* [Patrick Diehl](https://www.diehlpk.de/)\n",
    "* [Steve R. Brandt](https://www.cct.lsu.edu/~sbrandt)\n",
    "* [Hartmut Kaiser](https://www.cct.lsu.edu/~hkaiser)\n",
    "\n",
    "## Resources\n",
    "\n",
    "### C++ Explorer\n",
    "\n",
    "The source code and Docker image is available on [GitHub](https://github.com/stevenrbrandt/CxxExplorer).\n",
    "\n",
    "### Parallel algorithms and asynchronous programming\n",
    "\n",
    "Some lecture slides, additional exercises, and some course notes are available [here](https://www.cct.lsu.edu/~pdiehl/teaching/2021/4997/).  \n"
   ]
  },
  {
   "cell_type": "code",
   "execution_count": null,
   "id": "f0dfb996-9e84-4823-b959-5b63f593c0fb",
   "metadata": {},
   "outputs": [],
   "source": []
  }
 ],
 "metadata": {
  "kernelspec": {
   "display_name": "Python 3 (ipykernel)",
   "language": "python",
   "name": "python3"
  },
  "language_info": {
   "codemirror_mode": {
    "name": "ipython",
    "version": 3
   },
   "file_extension": ".py",
   "mimetype": "text/x-python",
   "name": "python",
   "nbconvert_exporter": "python",
   "pygments_lexer": "ipython3",
   "version": "3.10.6"
  }
 },
 "nbformat": 4,
 "nbformat_minor": 5
}
