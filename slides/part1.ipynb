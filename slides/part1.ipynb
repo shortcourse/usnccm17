{
 "cells": [
  {
   "cell_type": "markdown",
   "id": "interim-brick",
   "metadata": {
    "slideshow": {
     "slide_type": "slide"
    }
   },
   "source": [
    "# Asynchronous computing and parallel algorithms\n",
    "\n",
    "* Asynchronous programming using std::async and std::future\n",
    "* Asynchronous programming using hpx::async and hpx::future\n",
    "* Experimental support of the parallel algorithms in GCC and MSVC\n",
    "* Full support of parallel algorithms in HPX"
   ]
  },
  {
   "cell_type": "markdown",
   "id": "smoking-fifteen",
   "metadata": {
    "slideshow": {
     "slide_type": "slide"
    }
   },
   "source": [
    "## Asynchronous programming using std::async and std::future\n",
    "\n",
    "Documentation:\n",
    "* [std::future](https://en.cppreference.com/w/cpp/thread/future) \n",
    "* [std::async](https://en.cppreference.com/w/cpp/thread/async)\n",
    "\n",
    "Book:\n",
    "\n",
    "* Williams, Anthony.C++ concurrency in action : practical multithreading. Shelter Island, NY:Manning, 2012.ISBN: 9781933988771.\n"
   ]
  },
  {
   "cell_type": "code",
   "execution_count": null,
   "id": "ace8e738",
   "metadata": {
    "slideshow": {
     "slide_type": "slide"
    }
   },
   "outputs": [],
   "source": [
    "%%writefile example.cpp\n",
    "#include <future>\n",
    "#include <iostream>\n",
    "\n",
    "int add(int a, int b)\n",
    "{\n",
    "    return a + b;\n",
    "}\n",
    "\n",
    "int main(void)\n",
    "{\n",
    "int a = 5;\n",
    "int b = 5;\n",
    "std::future<int> result = std::async(add,a,b);\n",
    "\n",
    "std::cout<< result.get() << std::endl;\n",
    "\n",
    "return EXIT_SUCCESS;\n",
    "}"
   ]
  },
  {
   "cell_type": "markdown",
   "id": "8752e030",
   "metadata": {
    "slideshow": {
     "slide_type": "subslide"
    }
   },
   "source": [
    "### Compilation\n",
    "\n",
    "We need to add `-phtread` for the asynchronous execution"
   ]
  },
  {
   "cell_type": "code",
   "execution_count": null,
   "id": "608525e5",
   "metadata": {
    "slideshow": {
     "slide_type": "fragment"
    }
   },
   "outputs": [],
   "source": [
    "%%bash\n",
    "g++ example.cpp -pthread -o example"
   ]
  },
  {
   "cell_type": "markdown",
   "id": "fe41a853",
   "metadata": {
    "slideshow": {
     "slide_type": "fragment"
    }
   },
   "source": [
    "### Execution"
   ]
  },
  {
   "cell_type": "code",
   "execution_count": null,
   "id": "19eaa9af",
   "metadata": {
    "slideshow": {
     "slide_type": "fragment"
    }
   },
   "outputs": [],
   "source": [
    "%%bash\n",
    "./example"
   ]
  },
  {
   "cell_type": "markdown",
   "id": "b3ed5d62",
   "metadata": {
    "slideshow": {
     "slide_type": "slide"
    }
   },
   "source": [
    "## Asynchronous programming using hpx::async and hpx::future\n"
   ]
  },
  {
   "cell_type": "code",
   "execution_count": null,
   "id": "02cb74f9",
   "metadata": {
    "slideshow": {
     "slide_type": "fragment"
    }
   },
   "outputs": [],
   "source": [
    "#include<run_hpx.cpp>\n",
    "#include <hpx/future.hpp>\n",
    "#include <iostream>"
   ]
  },
  {
   "cell_type": "code",
   "execution_count": null,
   "id": "b20ae4bf",
   "metadata": {
    "slideshow": {
     "slide_type": "fragment"
    }
   },
   "outputs": [],
   "source": [
    "int add(int a, int b)\n",
    "{\n",
    "    return a + b;\n",
    "}"
   ]
  },
  {
   "cell_type": "code",
   "execution_count": null,
   "id": "0b58d01d",
   "metadata": {
    "slideshow": {
     "slide_type": "fragment"
    }
   },
   "outputs": [],
   "source": [
    "run_hpx([](){\n",
    "\n",
    "hpx::lcos::future<int> result = hpx::async(add,5,5);\n",
    "\n",
    "std::cout << result.get() ;\n",
    "\n",
    "});"
   ]
  },
  {
   "cell_type": "markdown",
   "id": "14240fa7",
   "metadata": {
    "slideshow": {
     "slide_type": "slide"
    }
   },
   "source": [
    "### Example Numerical integration\n",
    "\n",
    "\n",
    "For this example the Taylor series for the $\\sin(x)$\n",
    "function is computed. The Taylor series is given by,\n",
    "\n",
    "$$ \\sin(x) \\approx = \\sum\\limits_{n=0}^N (-1)^{n-1} \\frac{x^{2n}}{(2n)!}.$$\n",
    "\n",
    "For the concurrent computation, the interval $[0, N]$ is split in two\n",
    "partitions from $[0, N/2]$ and $[(N/2)+1, N]$, and these are computed\n",
    "asynchronously using `hpx::async`. Note that each asynchronous function call\n",
    "returns an `hpx::future` which is needed to synchronize the collection\n",
    "of the partial results. "
   ]
  },
  {
   "cell_type": "code",
   "execution_count": null,
   "id": "7acf4563",
   "metadata": {
    "slideshow": {
     "slide_type": "skip"
    }
   },
   "outputs": [],
   "source": [
    "long fact(long n) {\n",
    "   if (n == 0 || n == 1)\n",
    "   return 1;\n",
    "   else\n",
    "   return n * fact(n - 1);\n",
    "}\n",
    "\n"
   ]
  },
  {
   "cell_type": "code",
   "execution_count": null,
   "id": "49af0f64",
   "metadata": {
    "slideshow": {
     "slide_type": "slide"
    }
   },
   "outputs": [],
   "source": [
    "#include <cmath>\n",
    "\n",
    "// Define the partial Taylor function\n",
    "double taylor(size_t begin, size_t end, size_t n, double x)\n",
    "{\n",
    " double denom = fact(2 * n);\n",
    " double res = 0;\n",
    " for (size_t i = begin; i != end; ++i)\n",
    " {\n",
    " res += std::pow(-1, i - 1) * std::pow(x, 2 * n) / denom;\n",
    " }\n",
    " return res;\n",
    "}"
   ]
  },
  {
   "cell_type": "code",
   "execution_count": null,
   "id": "b14b74b5",
   "metadata": {
    "slideshow": {
     "slide_type": "slide"
    }
   },
   "outputs": [],
   "source": [
    "run_hpx([](){\n",
    "\n",
    "// Compute the Taylor series sin(2.0) for 25 iterations\n",
    "size_t n = 25;\n",
    "\n",
    "// Launch two concurrent computations of each partial result\n",
    "hpx::future<double> f1 = hpx::async(taylor, 0, n / 2, n, 2.);\n",
    "hpx::future<double> f2 = hpx::async(taylor, (n / 2) + 1, n, n, 2.);\n",
    "\n",
    "// Introduce a barrier to gather the results\n",
    "double res = f1.get() + f2.get();\n",
    "\n",
    "// Print the result\n",
    "std::cout << \"Sin(2.) = \" << res << std::endl;\n",
    "\n",
    "});"
   ]
  },
  {
   "cell_type": "markdown",
   "id": "54e5fb18",
   "metadata": {
    "slideshow": {
     "slide_type": "slide"
    }
   },
   "source": [
    "\n",
    "![alt text](https://www.memesmonkey.com/images/memesmonkey/fd/fd382388e9c6585ee8f9c7a12533f2f6.jpeg \"Title\")\n",
    "\n",
    "\n",
    "\n"
   ]
  },
  {
   "cell_type": "markdown",
   "id": "9e0faca7",
   "metadata": {
    "slideshow": {
     "slide_type": "slide"
    }
   },
   "source": [
    "## Experimental support of the parallel algorithms in GCC and MSVC\n",
    "\n",
    "* C++17 added support for parallel algorithms to the standard library, to help programs take advantage of parallel execution for improved performance.\n",
    "* Parallelized versions of 69 algorithms from <algorithm>, <numeric> and <memory> are available\n",
    "* Only recently released compilers (gcc >= 9 and MSVC >= 19.14) 1implement these new features and some of them are still experimental\n",
    "\n",
    "Links:\n",
    "* [Compiler support](https://en.cppreference.com/w/cpp/compiler_support)\n",
    "* [Parallelism in C++ 17](https://en.cppreference.com/w/cpp/experimental/parallelism)\n",
    "\n"
   ]
  },
  {
   "cell_type": "markdown",
   "id": "009f4ee3",
   "metadata": {
    "slideshow": {
     "slide_type": "slide"
    }
   },
   "source": [
    "### Example \n",
    "\n",
    "We want to compute the sum of all elements in some `std::vector` n \n",
    "\n",
    "$$ \\sum_{i=0}^N r+= n[i] $$\n",
    "\n",
    "in sequential and parallel using the C++ Standard template library without using any `for` loop.\n",
    "\n",
    "Links:\n",
    "\n",
    "* [std::vector](https://en.cppreference.com/w/cpp/container/vector)\n",
    "* [std::iterators](https://en.cppreference.com/w/cpp/iterator/iterator)\n",
    "* [std::fill](https://en.cppreference.com/w/cpp/algorithm/fill)\n",
    "* [std::accumulate](https://en.cppreference.com/w/cpp/algorithm/accumulate)\n",
    "* [std::reduce](https://en.cppreference.com/w/cpp/algorithm/reduce)"
   ]
  },
  {
   "cell_type": "markdown",
   "id": "3ba31863",
   "metadata": {
    "slideshow": {
     "slide_type": "slide"
    }
   },
   "source": [
    "#### Naive implementation"
   ]
  },
  {
   "cell_type": "code",
   "execution_count": null,
   "id": "8a11a49f",
   "metadata": {},
   "outputs": [],
   "source": [
    "size_t len = 100'000'000;\n",
    "int result = 0;\n",
    "std::vector<int> n = std::vector<int>(len);"
   ]
  },
  {
   "cell_type": "code",
   "execution_count": null,
   "id": "fbfc1e9f",
   "metadata": {
    "slideshow": {
     "slide_type": "fragment"
    }
   },
   "outputs": [],
   "source": [
    "for (size_t i = 0; i < n.size(); i++)\n",
    "n[i] = -1;\n",
    "\n",
    "for (size_t i = 0; i < n.size(); i++)\n",
    "\n",
    "result += n[i];\n",
    "\n",
    "std::cout << \"Result= \" << result << std::endl;\n"
   ]
  },
  {
   "cell_type": "markdown",
   "id": "f9b0012c",
   "metadata": {
    "slideshow": {
     "slide_type": "slide"
    }
   },
   "source": [
    "#### Implementation using the C++ STL sequential algorithms"
   ]
  },
  {
   "cell_type": "code",
   "execution_count": null,
   "id": "574ecf74",
   "metadata": {
    "slideshow": {
     "slide_type": "fragment"
    }
   },
   "outputs": [],
   "source": [
    ".expr\n",
    "std::vector<int> n2 = std::vector<int>(len);\n",
    "\n",
    "std::fill(n2.begin(),n2.end(),-1);\n",
    "\n",
    "result = std::accumulate(n2.begin(),n2.end(),0.0);\n",
    "\n",
    "std::cout << \"Result= \" << result << std::endl;"
   ]
  },
  {
   "cell_type": "markdown",
   "id": "ebd4033f",
   "metadata": {
    "slideshow": {
     "slide_type": "slide"
    }
   },
   "source": [
    "#### Implementation using the C++ STL parallel algorithms"
   ]
  },
  {
   "cell_type": "code",
   "execution_count": null,
   "id": "4090cf70",
   "metadata": {
    "slideshow": {
     "slide_type": "fragment"
    }
   },
   "outputs": [],
   "source": [
    "%%writefile parallel.cpp\n",
    "#include<execution>\n",
    "#include<iostream>\n",
    "\n",
    "int main(void){\n",
    "\n",
    "size_t len = 1000000000;\n",
    "std::vector<int> n = std::vector<int>(len);\n",
    "\n",
    "std::fill(n.begin(),n.end(),-1);\n",
    "\n",
    "int result = 0;\n",
    "\n",
    "result = std::reduce(std::execution::par,n.begin(), n.end());\n",
    "\n",
    "std::cout << \"Result= \" << result << std::endl;\n",
    "\n",
    "return EXIT_SUCCESS;\n",
    "}"
   ]
  },
  {
   "cell_type": "markdown",
   "id": "6cf98982",
   "metadata": {
    "slideshow": {
     "slide_type": "slide"
    }
   },
   "source": [
    "##### Compilation\n",
    "\n",
    "The parallelism for the gcc is based-on the [Threading Building Blocks](https://github.com/oneapi-src/oneTBB) library. Therefore, we need to add `-ltbb` to the compiler. Since these feature are experimental, we need to use the following C++ standard `-std=c++1z`."
   ]
  },
  {
   "cell_type": "code",
   "execution_count": null,
   "id": "e69dd9d5",
   "metadata": {
    "slideshow": {
     "slide_type": "fragment"
    }
   },
   "outputs": [],
   "source": [
    "%%bash \n",
    "g++ -std=c++20  parallel.cpp -o parallel -ltbb"
   ]
  },
  {
   "cell_type": "code",
   "execution_count": null,
   "id": "524d904c",
   "metadata": {
    "slideshow": {
     "slide_type": "fragment"
    }
   },
   "outputs": [],
   "source": [
    "%%bash\n",
    "./parallel"
   ]
  },
  {
   "cell_type": "markdown",
   "id": "595072bd",
   "metadata": {
    "slideshow": {
     "slide_type": "slide"
    }
   },
   "source": [
    "### Execution policies\n",
    "\n",
    "* `std::reduce(std::execution::par,n.begin(), n.end());` - Parallel execution\n",
    "* `std::reduce(std::execution::seq,n.begin(), n.end());` - Sequential execution\n",
    "* `std::reduce(std::execution::par_unseq,n.begin(), n.end());` - Parallel execution with vectorization\n",
    "\n",
    "[Documentation](https://en.cppreference.com/w/cpp/experimental/parallelism)\n",
    "\n",
    "Fore more details: CppCon 2016: Bryce AdelsteinLelbach [“The C++17 Parallel Algorithms Library and Beyond”](https://www.youtube.com/watch?v=Vck6kzWjY88)"
   ]
  },
  {
   "cell_type": "markdown",
   "id": "e1011b48",
   "metadata": {
    "slideshow": {
     "slide_type": "slide"
    }
   },
   "source": [
    "## Full support of parallel algorithms in HPX\n",
    "\n",
    "* HPX provides the same set of parallel algorithms as the experimental ones in the C++ STL\n",
    "* In addition, HPX provides the functionality to receive a future and combined the parallel algorithms with asynchronous computation. \n",
    "* HPX provides some more convenient way to iterate over a `std::vector`"
   ]
  },
  {
   "cell_type": "code",
   "execution_count": null,
   "id": "761ab2fd",
   "metadata": {
    "slideshow": {
     "slide_type": "slide"
    }
   },
   "outputs": [],
   "source": [
    "#include<hpx/include/parallel_reduce.hpp>"
   ]
  },
  {
   "cell_type": "code",
   "execution_count": null,
   "id": "11844b9f",
   "metadata": {
    "slideshow": {
     "slide_type": "fragment"
    }
   },
   "outputs": [],
   "source": [
    "run_hpx([](){\n",
    "\n",
    "std::cout << \"Result:\"  << hpx::ranges::reduce(hpx::execution::par,\n",
    "n.begin(),n.end(),0) << std::endl;\n",
    "\n",
    "std::cout << \"Result:\"  << hpx::ranges::reduce(hpx::execution::seq,\n",
    "n.begin(),n.end(),0) << std::endl;\n",
    "\n",
    "});"
   ]
  },
  {
   "cell_type": "markdown",
   "id": "63302f6a",
   "metadata": {
    "slideshow": {
     "slide_type": "slide"
    }
   },
   "source": [
    "### Combing the parallel algorithms and futurization"
   ]
  },
  {
   "cell_type": "code",
   "execution_count": null,
   "id": "1999fb23",
   "metadata": {
    "slideshow": {
     "slide_type": "fragment"
    }
   },
   "outputs": [],
   "source": [
    "run_hpx([](){\n",
    "\n",
    "auto f =\n",
    "hpx::ranges::reduce(\n",
    "hpx::execution::par(\n",
    "hpx::execution::task),\n",
    "n.begin(),\n",
    "n.end(),0);\n",
    "\n",
    "std::cout<< f.get();\n",
    "\n",
    "});"
   ]
  },
  {
   "cell_type": "markdown",
   "id": "db6f2ef0",
   "metadata": {
    "slideshow": {
     "slide_type": "slide"
    }
   },
   "source": [
    "### Using parallel algorithms to iterated over a `std::vector`"
   ]
  },
  {
   "cell_type": "code",
   "execution_count": null,
   "id": "cd64d590",
   "metadata": {
    "slideshow": {
     "slide_type": "slide"
    }
   },
   "outputs": [],
   "source": [
    "%%writefile loop.cpp\n",
    "#include<execution>\n",
    "#include<iostream>\n",
    "#include<vector>\n",
    "#include<numeric>\n",
    "#include<algorithm>\n",
    "#include <ctime>\n",
    "#include <experimental/random>\n",
    "\n",
    "int main(void)\n",
    "{\n",
    "\n",
    "std::vector<int> l = std::vector<int>(10);\n",
    "std::srand (time(NULL));\n",
    "std::generate(l.begin(), l.end(), std::rand);\n",
    "\n",
    "std::vector<int> i = std::vector<int>(10);\n",
    "\n",
    "std::iota(std::begin(i), std::end(i), 0);\n",
    "\n",
    "std::for_each(\n",
    "    std::execution::par,\n",
    "    i.begin(),\n",
    "    i.end(),\n",
    "    [&](auto&& item)\n",
    "    {\n",
    "        std::cout << \"Element: \" << l[item] << \" at index: \" << item << std::endl;\n",
    "    });\n",
    "\n",
    "return EXIT_SUCCESS;\n",
    "}"
   ]
  },
  {
   "cell_type": "code",
   "execution_count": null,
   "id": "23a497dc",
   "metadata": {
    "slideshow": {
     "slide_type": "slide"
    }
   },
   "outputs": [],
   "source": [
    "%%bash\n",
    "g++ loop.cpp -std=c++1z -ltbb -o loop"
   ]
  },
  {
   "cell_type": "code",
   "execution_count": null,
   "id": "a44df152",
   "metadata": {
    "slideshow": {
     "slide_type": "fragment"
    }
   },
   "outputs": [],
   "source": [
    "%%bash \n",
    "./loop"
   ]
  },
  {
   "cell_type": "markdown",
   "id": "c21d3eef",
   "metadata": {
    "slideshow": {
     "slide_type": "slide"
    }
   },
   "source": [
    "### Using range-based HPX loops"
   ]
  },
  {
   "cell_type": "code",
   "execution_count": null,
   "id": "f17a8cf9",
   "metadata": {
    "slideshow": {
     "slide_type": "fragment"
    }
   },
   "outputs": [],
   "source": [
    "#include<hpx/include/parallel_for_loop.hpp>\n",
    "#include <cstdlib>\n",
    "std::vector<int> l = std::vector<int>(10);"
   ]
  },
  {
   "cell_type": "code",
   "execution_count": null,
   "id": "fdc5f92f",
   "metadata": {
    "slideshow": {
     "slide_type": "fragment"
    }
   },
   "outputs": [],
   "source": [
    "srand (time(NULL));"
   ]
  },
  {
   "cell_type": "code",
   "execution_count": null,
   "id": "ec4d109e",
   "metadata": {},
   "outputs": [],
   "source": [
    "std::generate(l.begin(), l.end(), std::rand);"
   ]
  },
  {
   "cell_type": "code",
   "execution_count": null,
   "id": "937de53e",
   "metadata": {
    "slideshow": {
     "slide_type": "fragment"
    }
   },
   "outputs": [],
   "source": [
    "run_hpx([](){\n",
    "\n",
    "hpx::experimental::for_loop(\n",
    "hpx::execution::par,\n",
    "0,\n",
    "l.size(),\n",
    "[](boost::uint64_t i)\n",
    "{\n",
    " std::cout << \"Element: \" << l[i] << \" at index: \" << i << std::endl;\n",
    "}\n",
    ");\n",
    "\n",
    "});"
   ]
  },
  {
   "cell_type": "markdown",
   "id": "47aa6f75",
   "metadata": {
    "slideshow": {
     "slide_type": "slide"
    }
   },
   "source": [
    "\n",
    "![alt text](https://blogs.mathworks.com/developer/files/2015ParallelismFTW.jpg \"Title\")\n",
    "\n",
    "\n"
   ]
  }
 ],
 "metadata": {
  "celltoolbar": "Slideshow",
  "kernelspec": {
   "display_name": "C++17",
   "language": "C++",
   "name": "cling-cpp17"
  },
  "language_info": {
   "codemirror_mode": "c++",
   "file_extension": ".c++",
   "mimetype": "text/x-c++src",
   "name": "c++"
  }
 },
 "nbformat": 4,
 "nbformat_minor": 5
}
